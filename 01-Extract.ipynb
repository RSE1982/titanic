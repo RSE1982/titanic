{
 "cells": [
  {
   "cell_type": "code",
   "execution_count": 1,
   "id": "27c08077",
   "metadata": {},
   "outputs": [],
   "source": [
    "import pandas as pd\n",
    "import numpy as np\n",
    "import matplotlib.pyplot as plt\n",
    "import math"
   ]
  },
  {
   "cell_type": "code",
   "execution_count": 2,
   "id": "b910acee",
   "metadata": {},
   "outputs": [],
   "source": [
    "df = pd.read_excel('data/titanic3.xls')\n",
    "df = df.drop(['cabin','boat','body','ticket', 'name', 'home.dest', 'embarked'], axis=1)"
   ]
  },
  {
   "cell_type": "code",
   "execution_count": null,
   "id": "98600050",
   "metadata": {},
   "outputs": [
    {
     "name": "stdout",
     "output_type": "stream",
     "text": [
      "<class 'pandas.core.frame.DataFrame'>\n",
      "RangeIndex: 1309 entries, 0 to 1308\n",
      "Data columns (total 7 columns):\n",
      " #   Column       Non-Null Count  Dtype  \n",
      "---  ------       --------------  -----  \n",
      " 0   pclass       1309 non-null   int64  \n",
      " 1   survived     1309 non-null   int64  \n",
      " 2   sex          1309 non-null   object \n",
      " 3   age          1046 non-null   float64\n",
      " 4   fare         1308 non-null   float64\n",
      " 5   family_size  1309 non-null   int64  \n",
      " 6   avg_fare     1308 non-null   float64\n",
      "dtypes: float64(3), int64(3), object(1)\n",
      "memory usage: 71.7+ KB\n"
     ]
    }
   ],
   "source": [
    "df['family_size'] = df['sibsp'] + df['parch'] + 1\n",
    "df = df.drop(['sibsp','parch'], axis=1)\n",
    "df.info()"
   ]
  },
  {
   "cell_type": "code",
   "execution_count": 18,
   "id": "e1d08ad2",
   "metadata": {},
   "outputs": [],
   "source": [
    "df['age'] = df['age'].fillna(df['age'].median())\n",
    "df['fare'] = df['fare'].fillna(df['fare'].median()).round(2)\n",
    "df['avg_fare'] = df['fare'] / df['family_size']\n",
    "df['avg_fare'] = df['avg_fare'].round(2)"
   ]
  },
  {
   "cell_type": "code",
   "execution_count": 10,
   "id": "850dcec2",
   "metadata": {},
   "outputs": [
    {
     "name": "stdout",
     "output_type": "stream",
     "text": [
      "<class 'pandas.core.frame.DataFrame'>\n",
      "RangeIndex: 1309 entries, 0 to 1308\n",
      "Data columns (total 7 columns):\n",
      " #   Column       Non-Null Count  Dtype  \n",
      "---  ------       --------------  -----  \n",
      " 0   pclass       1309 non-null   int64  \n",
      " 1   survived     1309 non-null   int64  \n",
      " 2   sex          1309 non-null   object \n",
      " 3   age          1309 non-null   float64\n",
      " 4   fare         1309 non-null   float64\n",
      " 5   family_size  1309 non-null   int64  \n",
      " 6   avg_fare     1309 non-null   float64\n",
      "dtypes: float64(3), int64(3), object(1)\n",
      "memory usage: 71.7+ KB\n"
     ]
    }
   ],
   "source": [
    "df.info()"
   ]
  },
  {
   "cell_type": "code",
   "execution_count": 19,
   "id": "941f0cd7",
   "metadata": {},
   "outputs": [
    {
     "name": "stdout",
     "output_type": "stream",
     "text": [
      "<class 'pandas.core.frame.DataFrame'>\n",
      "RangeIndex: 1309 entries, 0 to 1308\n",
      "Data columns (total 7 columns):\n",
      " #   Column       Non-Null Count  Dtype   \n",
      "---  ------       --------------  -----   \n",
      " 0   pclass       1309 non-null   category\n",
      " 1   survived     1309 non-null   boolean \n",
      " 2   sex          1309 non-null   category\n",
      " 3   age          1309 non-null   int64   \n",
      " 4   fare         1309 non-null   float64 \n",
      " 5   family_size  1309 non-null   int64   \n",
      " 6   avg_fare     1309 non-null   float64 \n",
      "dtypes: boolean(1), category(2), float64(2), int64(2)\n",
      "memory usage: 46.4 KB\n"
     ]
    }
   ],
   "source": [
    "df['age'] = df['age'].round().astype('int64')\n",
    "df['pclass'] = df['pclass'].astype('category')\n",
    "df['sex'] = df['sex'].astype('category')\n",
    "df['survived'] = df['survived'].astype('boolean')\n",
    "df.info()\n",
    "df.to_csv('data/cleaned.csv')"
   ]
  }
 ],
 "metadata": {
  "kernelspec": {
   "display_name": "code-institute",
   "language": "python",
   "name": "python3"
  },
  "language_info": {
   "codemirror_mode": {
    "name": "ipython",
    "version": 3
   },
   "file_extension": ".py",
   "mimetype": "text/x-python",
   "name": "python",
   "nbconvert_exporter": "python",
   "pygments_lexer": "ipython3",
   "version": "3.12.9"
  }
 },
 "nbformat": 4,
 "nbformat_minor": 5
}
